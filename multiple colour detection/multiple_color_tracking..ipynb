{
 "cells": [
  {
   "cell_type": "markdown",
   "metadata": {},
   "source": [
    "# Author: Olufemi Victor.\n",
    "\n",
    "# Title: Multiple Colour Detection.\n",
    "\n",
    "Following a tutorial I previously made on Tracking my red pen with Opencv, i decided to upgrade the tutorial to suit a task at my internship with The Sparks Foundation. The task involves multiple color detection.\n",
    "\n",
    "I explained the procedures quite well, but feel free to check out my previous tutorials on opencv in my [github repo](github.com/osinkolu)."
   ]
  },
  {
   "cell_type": "markdown",
   "metadata": {},
   "source": [
    "###### The Pipeline\n",
    "The pipeline is quite easy, First is to get the frame, mask out all other color regions asides our color of interest, and lastly draw a bounding circle for the contour. I have gone through the pain to track the specific hsv boundaries for the provided colors"
   ]
  },
  {
   "cell_type": "markdown",
   "metadata": {},
   "source": [
    "###### Import Packages.\n",
    "Firstly, we import the packages needed to run the algorithm. If you've been following my previous tutorials."
   ]
  },
  {
   "cell_type": "markdown",
   "metadata": {},
   "source": [
    "Time is another package available in python which helps us keep track of real time."
   ]
  },
  {
   "cell_type": "code",
   "execution_count": 64,
   "metadata": {},
   "outputs": [],
   "source": [
    "from collections import deque # import deque a far faster list\n",
    "import numpy as np # import numpy as needed\n",
    "import imutils # we definately need imutils convienience functions.\n",
    "import time # time is time\n",
    "import cv2 # The major library, opencv\n",
    "import pandas as pd #get victor's csv file of colour boundary."
   ]
  },
  {
   "cell_type": "code",
   "execution_count": 65,
   "metadata": {},
   "outputs": [],
   "source": [
    "# import my hsv specifications\n",
    "victors_hsv_specs = pd.read_csv('victors_hsv_specs.csv')"
   ]
  },
  {
   "cell_type": "markdown",
   "metadata": {},
   "source": [
    "The contents of the csv file include the colour name which every column has, the first row with index zero is the lower hsv boundary, the second row is the upper hsv boundary, and the third row is the BGR color code for the specified color."
   ]
  },
  {
   "cell_type": "code",
   "execution_count": 66,
   "metadata": {},
   "outputs": [
    {
     "data": {
      "text/html": [
       "<div>\n",
       "<style scoped>\n",
       "    .dataframe tbody tr th:only-of-type {\n",
       "        vertical-align: middle;\n",
       "    }\n",
       "\n",
       "    .dataframe tbody tr th {\n",
       "        vertical-align: top;\n",
       "    }\n",
       "\n",
       "    .dataframe thead th {\n",
       "        text-align: right;\n",
       "    }\n",
       "</style>\n",
       "<table border=\"1\" class=\"dataframe\">\n",
       "  <thead>\n",
       "    <tr style=\"text-align: right;\">\n",
       "      <th></th>\n",
       "      <th>white</th>\n",
       "      <th>black</th>\n",
       "      <th>red</th>\n",
       "      <th>blue</th>\n",
       "      <th>yellow</th>\n",
       "      <th>leamon</th>\n",
       "      <th>green</th>\n",
       "      <th>pink</th>\n",
       "      <th>brown</th>\n",
       "      <th>purple</th>\n",
       "      <th>gold</th>\n",
       "    </tr>\n",
       "  </thead>\n",
       "  <tbody>\n",
       "    <tr>\n",
       "      <td>0</td>\n",
       "      <td>(0, 0, 180)</td>\n",
       "      <td>(0, 0, 0)</td>\n",
       "      <td>(0, 150, 150)</td>\n",
       "      <td>(100, 100, 50)</td>\n",
       "      <td>(20, 100, 100)</td>\n",
       "      <td>(30, 100, 100)</td>\n",
       "      <td>(70, 110, 110)</td>\n",
       "      <td>(160, 100, 100)</td>\n",
       "      <td>(260, 100, 100)</td>\n",
       "      <td>(122, 100, 100)</td>\n",
       "      <td>(260, 100, 80)</td>\n",
       "    </tr>\n",
       "    <tr>\n",
       "      <td>1</td>\n",
       "      <td>(180, 20, 255)</td>\n",
       "      <td>(180, 255, 20)</td>\n",
       "      <td>(5, 255, 225)</td>\n",
       "      <td>(120, 255, 255)</td>\n",
       "      <td>(30, 255, 225)</td>\n",
       "      <td>(50, 255, 128)</td>\n",
       "      <td>(90, 255, 255)</td>\n",
       "      <td>(170, 255, 255)</td>\n",
       "      <td>(270, 255, 255)</td>\n",
       "      <td>(160, 255, 255)</td>\n",
       "      <td>(280, 200, 160)</td>\n",
       "    </tr>\n",
       "    <tr>\n",
       "      <td>2</td>\n",
       "      <td>(255, 255, 255)</td>\n",
       "      <td>(0, 0, 0)</td>\n",
       "      <td>(0, 0, 255)</td>\n",
       "      <td>(255, 0, 0)</td>\n",
       "      <td>(0, 255, 255)</td>\n",
       "      <td>(0, 255, 0)</td>\n",
       "      <td>(0, 128, 0)</td>\n",
       "      <td>(147, 20, 255)</td>\n",
       "      <td>(139, 69, 19)</td>\n",
       "      <td>(128, 0, 128)</td>\n",
       "      <td>(0, 215, 255)</td>\n",
       "    </tr>\n",
       "  </tbody>\n",
       "</table>\n",
       "</div>"
      ],
      "text/plain": [
       "             white           black            red             blue  \\\n",
       "0      (0, 0, 180)       (0, 0, 0)  (0, 150, 150)   (100, 100, 50)   \n",
       "1   (180, 20, 255)  (180, 255, 20)  (5, 255, 225)  (120, 255, 255)   \n",
       "2  (255, 255, 255)       (0, 0, 0)    (0, 0, 255)      (255, 0, 0)   \n",
       "\n",
       "           yellow          leamon           green             pink  \\\n",
       "0  (20, 100, 100)  (30, 100, 100)  (70, 110, 110)  (160, 100, 100)   \n",
       "1  (30, 255, 225)  (50, 255, 128)  (90, 255, 255)  (170, 255, 255)   \n",
       "2   (0, 255, 255)     (0, 255, 0)     (0, 128, 0)   (147, 20, 255)   \n",
       "\n",
       "             brown           purple             gold  \n",
       "0  (260, 100, 100)  (122, 100, 100)   (260, 100, 80)  \n",
       "1  (270, 255, 255)  (160, 255, 255)  (280, 200, 160)  \n",
       "2    (139, 69, 19)    (128, 0, 128)    (0, 215, 255)  "
      ]
     },
     "execution_count": 66,
     "metadata": {},
     "output_type": "execute_result"
    }
   ],
   "source": [
    "# view the csv contents.\n",
    "victors_hsv_specs.head()"
   ]
  },
  {
   "cell_type": "code",
   "execution_count": 67,
   "metadata": {},
   "outputs": [],
   "source": [
    "# since data is vry small, for faster and easier maipulation, i converted it to a dictionary format.\n",
    "victors_hsv_specs = victors_hsv_specs.to_dict()"
   ]
  },
  {
   "cell_type": "code",
   "execution_count": 68,
   "metadata": {},
   "outputs": [
    {
     "data": {
      "text/plain": [
       "(180, 20, 255)"
      ]
     },
     "execution_count": 68,
     "metadata": {},
     "output_type": "execute_result"
    }
   ],
   "source": [
    "# see white upper boundary\n",
    "eval(victors_hsv_specs[\"white\"][1])"
   ]
  },
  {
   "cell_type": "markdown",
   "metadata": {},
   "source": [
    "Finally i start the video Stream giving it some 2 seconds to warm up."
   ]
  },
  {
   "cell_type": "code",
   "execution_count": 69,
   "metadata": {
    "scrolled": true
   },
   "outputs": [
    {
     "name": "stdout",
     "output_type": "stream",
     "text": [
      "Booting the Video stream,\n"
     ]
    }
   ],
   "source": [
    "print(\"Booting the Video stream,\")\n",
    "vs = cv2.VideoCapture(\"many_things.mp4\")# uncomment this to load in your own video stream.\n",
    "#vs = cv2.VideoCapture(0)# uncomment this if you want to stream in real time.\n",
    "time.sleep(2.0) #set sleep time to 2.0 seconds"
   ]
  },
  {
   "cell_type": "markdown",
   "metadata": {},
   "source": [
    "###### The Big Deal\n",
    "in this section, we do everything. First, i placed the whole process in a while loop since a video is just continous moving frame of pictures."
   ]
  },
  {
   "cell_type": "markdown",
   "metadata": {},
   "source": [
    "In the next line i read off the frame from the video master, next, i seperate the ret and frame. The ret is simply just a boolean regarding whether there was a return at all from the vs.read(). Next if there is nothing in the frame, break stop the process.Another way could be if ret is false, break. In the next line, i used imutils to resize the frame. The imutils resize saves a lot of stress in preserving the aspect ratio than stressful standard OpenCV methods."
   ]
  },
  {
   "cell_type": "markdown",
   "metadata": {},
   "source": [
    "Following that, i decided to flip the image. I did this to obtain the mirror view of my frame which is absolutely quite cool for direct streaming from the camera."
   ]
  },
  {
   "cell_type": "markdown",
   "metadata": {},
   "source": [
    "###### Processing The Frame.\n",
    "The frame is ready, first i blur the frame using the popular gaussian blur method, this helps to reduce noise in the image. Next, i convert the colour from the BGR to HSV. The HSV is a colour band which means Hue, Saturation and Value. it is a colour representation closer to the Human Vision(our way of seeing). "
   ]
  },
  {
   "cell_type": "markdown",
   "metadata": {},
   "source": [
    "The next step is where my for loop comes in. Each time my computer looks at a video frame, i looks at it Ten times, because i have 10 colors in my dictionary, for each time it looks at the picture, it checks for a specific colour in the image and labels it. How is this done??"
   ]
  },
  {
   "cell_type": "markdown",
   "metadata": {},
   "source": [
    "to achieve this in the next step, what i did was to create a mask by thresholding the image such that i save out only colours within my upper and lower boundary, which in this case is the colour of my red pen. After masking out other parts of the image, i erode, and dilate to futher reduce high frequency noise caused by thresholding."
   ]
  },
  {
   "cell_type": "markdown",
   "metadata": {},
   "source": [
    "###### All said and done??\n",
    "Now that we've gotten a view of the objects(based on the color), we find contours, grab them using imutils. In the following IF statement, i pick out the contour with the maximum Area,(.....Understand that you should very much edit this part to your own taste, the reason for this was to prevent wrong color detection due to CRAZY high frequency noise that escapes dilation, erosion......) this maximum contour is definately the contour of my object of interest, the remaining contours may or may not be noise. In the next line, i prepare parameters required to construct a bounding circle on the object. The first is the radius and the xy co-ordinates, next i used cv2.Moments to obtain it's center. Then if the radius is reasonable enough, i draw a bounding circle around my object with the detected colour as well as the name of the colour out with the detected colour, cool right?"
   ]
  },
  {
   "cell_type": "code",
   "execution_count": 70,
   "metadata": {},
   "outputs": [],
   "source": [
    "while True:\n",
    "    frame = vs.read() #Read off the frame from the video stream\n",
    "    ret,frame  = frame # Use this if you want to load in your video\n",
    "    if frame is None: # If there is no frame, save my pc from going through any stress at all\n",
    "        break\n",
    "    # otherwise, if we have a frame, we proceed with the following code\n",
    "    frame = imutils.resize(frame, width = 700) # so much easier than open cv, keeping aspect ratio intact\n",
    "    frame = cv2.flip(frame,1) # i want the mirror view, it's very helpful especially if i'm streaming\n",
    "    \n",
    "    #processing the frame \n",
    "    blurred = cv2.GaussianBlur(frame, (11,11),0) # blurr helps to reduce high frequency noise, definately helps model\n",
    "    hsv = cv2.cvtColor(blurred, cv2.COLOR_BGR2HSV) # convert my color to the HSV format\n",
    "    \n",
    "    for i in victors_hsv_specs.keys(): # check image multiple times for a different colour\n",
    "        lower_color_boundary = eval(victors_hsv_specs[i][0]) # assign lower boundary\n",
    "        upper_color_boundary = eval(victors_hsv_specs[i][1]) # assign Upper boundary\n",
    "        BGR_SPECTRUM = eval(victors_hsv_specs[i][2]) # assign BGR Spectrum to write names.\n",
    "    \n",
    "        # Create a mask\n",
    "        mask = cv2.inRange(hsv, lower_color_boundary, upper_color_boundary) # mask other regions except colors in range of upper to lower (thresholding)\n",
    "        mask = cv2.erode(mask, None, iterations =2) # Reduce noise caused by thresholding\n",
    "        mask = cv2.dilate(mask, None, iterations =2) # foreground the found object i.e futher reduce noise.\n",
    "\n",
    "\n",
    "        contours = cv2.findContours(mask.copy(), cv2.RETR_EXTERNAL, cv2.CHAIN_APPROX_SIMPLE) # find contours\n",
    "        contours = imutils.grab_contours(contours) # Grab the contours using imutils\n",
    "        if len(contours) > 0: # if the contours list is not empty proceed\n",
    "            contour = max(contours, key = cv2.contourArea) # select contour with maximum Area, most likely our object\n",
    "            ((x,y), radius) = cv2.minEnclosingCircle(contour) # pick up co-ordinates for drawing a circle around the object\n",
    "            if radius > 10: # if we have a reasonable radius for the proposed object detected\n",
    "                cv2.circle(frame, (int(x), int(y)), int(radius), BGR_SPECTRUM, 2) # Draw a circle to bound the Object\n",
    "                cv2.putText(frame, i, (int(x), int(y)), cv2.FONT_HERSHEY_SIMPLEX, 0.7,BGR_SPECTRUM, 2) # write names\n",
    "            cv2.imshow(\"Frame by Frame makes Video\", frame) # let's see the frame X frame\n",
    "            \n",
    "    # Closing a video frame\n",
    "    key = cv2.waitKey(1) #wait for the cv key\n",
    "    if key == ord(\"x\"): # If the x button is pressed\n",
    "        break # Break from the loop\n",
    "vs.release() # Let opencv release the video loader\n",
    "cv2.destroyAllWindows() # Destroy all windows to close it"
   ]
  },
  {
   "cell_type": "markdown",
   "metadata": {},
   "source": [
    "In my quest to manually find the HSV values for these colors as embedded in my hsv file, i stumbled on a tutorial post by opencv, as the creators, they implemented already a simpler version of the code i've just written, they confirmed that the quest to find true boundaries for each colour was quite tedious, they suggested a far easier way to get the hsv colour code. check out the post [here](https://opencv-python-tutroals.readthedocs.io/en/latest/py_tutorials/py_imgproc/py_colorspaces/py_colorspaces.html). Note that my hsv values range do not totally correlate with the post, but it helped quite a lot. Make sure to check it out and improve the victors_hsv_specs CSV file. Feel free to reach out to me on linkedIn [here](https://www.linkedin.com/in/olufemi-victor-tolulope/)"
   ]
  },
  {
   "cell_type": "code",
   "execution_count": 8,
   "metadata": {},
   "outputs": [
    {
     "name": "stdout",
     "output_type": "stream",
     "text": [
      "[[[108 220 139]]]\n"
     ]
    }
   ],
   "source": [
    "# what the post entails.................\n",
    "colour_in_bgr = np.uint8([[[139,69,19 ]]])# ...........slot in colour in BGR format\n",
    "hsv_ = cv2.cvtColor(colour_in_bgr,cv2.COLOR_BGR2HSV) #Convert to hsv\n",
    "print (hsv_)# print out HSV color code."
   ]
  },
  {
   "cell_type": "code",
   "execution_count": null,
   "metadata": {},
   "outputs": [],
   "source": []
  }
 ],
 "metadata": {
  "kernelspec": {
   "display_name": "Python 3",
   "language": "python",
   "name": "python3"
  },
  "language_info": {
   "codemirror_mode": {
    "name": "ipython",
    "version": 3
   },
   "file_extension": ".py",
   "mimetype": "text/x-python",
   "name": "python",
   "nbconvert_exporter": "python",
   "pygments_lexer": "ipython3",
   "version": "3.7.4"
  }
 },
 "nbformat": 4,
 "nbformat_minor": 2
}
